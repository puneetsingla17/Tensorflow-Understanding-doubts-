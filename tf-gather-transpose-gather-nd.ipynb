{
 "cells": [
  {
   "cell_type": "code",
   "execution_count": 1,
   "metadata": {
    "_cell_guid": "b1076dfc-b9ad-4769-8c92-a6c4dae69d19",
    "_uuid": "8f2839f25d086af736a60e9eeb907d3b93b6e0e5"
   },
   "outputs": [
    {
     "name": "stdout",
     "output_type": "stream",
     "text": [
      "[]\n"
     ]
    }
   ],
   "source": [
    "# This Python 3 environment comes with many helpful analytics libraries installed\n",
    "# It is defined by the kaggle/python docker image: https://github.com/kaggle/docker-python\n",
    "# For example, here's several helpful packages to load in \n",
    "\n",
    "import numpy as np # linear algebra\n",
    "import pandas as pd # data processing, CSV file I/O (e.g. pd.read_csv)\n",
    "\n",
    "# Input data files are available in the \"../input/\" directory.\n",
    "# For example, running this (by clicking run or pressing Shift+Enter) will list the files in the input directory\n",
    "import tensorflow as tf\n",
    "import os\n",
    "print(os.listdir(\"../input\"))\n",
    "\n",
    "# Any results you write to the current directory are saved as output."
   ]
  },
  {
   "cell_type": "code",
   "execution_count": 2,
   "metadata": {
    "_cell_guid": "79c7e3d0-c299-4dcb-8224-4455121ee9b0",
    "_uuid": "d629ff2d2480ee46fbb7e2d37f6b5fab8052498a"
   },
   "outputs": [],
   "source": [
    "x=tf.constant(np.random.randint(0,10,size=(5,4,3)))\n",
    "\n"
   ]
  },
  {
   "cell_type": "code",
   "execution_count": 3,
   "metadata": {
    "_uuid": "b9d861535ead3f8be405884b6520262389de006a"
   },
   "outputs": [
    {
     "data": {
      "text/plain": [
       "TensorShape([Dimension(5), Dimension(4), Dimension(3)])"
      ]
     },
     "execution_count": 3,
     "metadata": {},
     "output_type": "execute_result"
    }
   ],
   "source": [
    "x.get_shape()"
   ]
  },
  {
   "cell_type": "code",
   "execution_count": 4,
   "metadata": {
    "_uuid": "0539452861765e7cee8dd1ce07ec3d18d593ad94"
   },
   "outputs": [],
   "source": [
    "b=tf.transpose(x, perm=[0, 2, 1])"
   ]
  },
  {
   "cell_type": "code",
   "execution_count": 5,
   "metadata": {
    "_uuid": "1ab9aec70b3272023e4709f48e32894ee5e664e3"
   },
   "outputs": [],
   "source": [
    "s=tf.InteractiveSession()"
   ]
  },
  {
   "cell_type": "code",
   "execution_count": 6,
   "metadata": {
    "_uuid": "4e6d611652256446ee8f6f78a45f29bd4dc9788b"
   },
   "outputs": [
    {
     "data": {
      "text/plain": [
       "(5, 3, 4)"
      ]
     },
     "execution_count": 6,
     "metadata": {},
     "output_type": "execute_result"
    }
   ],
   "source": [
    "b.eval().shape   # It is very important so perm has values of dims of an array"
   ]
  },
  {
   "cell_type": "code",
   "execution_count": 7,
   "metadata": {
    "_uuid": "b5c9e4fd16e09d798bbaf7d8f8cb5e490f0d6ea2"
   },
   "outputs": [
    {
     "data": {
      "text/plain": [
       "array([[6, 2, 4, 7],\n",
       "       [8, 3, 8, 0],\n",
       "       [4, 6, 1, 3],\n",
       "       [5, 9, 7, 8],\n",
       "       [1, 5, 9, 8]])"
      ]
     },
     "execution_count": 7,
     "metadata": {},
     "output_type": "execute_result"
    }
   ],
   "source": [
    "x.eval()[:,:,0]"
   ]
  },
  {
   "cell_type": "code",
   "execution_count": 8,
   "metadata": {
    "_uuid": "398bd6279e0501fb578cb3b287f0d0c0719d1209"
   },
   "outputs": [
    {
     "data": {
      "text/plain": [
       "array([[6, 2, 4, 7],\n",
       "       [8, 3, 8, 0],\n",
       "       [4, 6, 1, 3],\n",
       "       [5, 9, 7, 8],\n",
       "       [1, 5, 9, 8]])"
      ]
     },
     "execution_count": 8,
     "metadata": {},
     "output_type": "execute_result"
    }
   ],
   "source": [
    "b.eval()[:,0,:]  #very important to check "
   ]
  },
  {
   "cell_type": "code",
   "execution_count": 9,
   "metadata": {
    "_uuid": "6db51e23b6e5eb25b1dcc1c58c41f9a589ed24fc"
   },
   "outputs": [],
   "source": [
    "#With transpose and dimensions we can specify in what form do we want tensor as"
   ]
  },
  {
   "cell_type": "code",
   "execution_count": 10,
   "metadata": {
    "_uuid": "e12571122c37378e61bc00f543fc312ee63a92c7"
   },
   "outputs": [],
   "source": [
    "# >>>> gather <<<< #"
   ]
  },
  {
   "cell_type": "code",
   "execution_count": 11,
   "metadata": {
    "_uuid": "3fb96915242a85904ef529f6e984af86d4828036"
   },
   "outputs": [],
   "source": [
    "a=tf.constant(np.random.randint(0,10,size=(4,2)))"
   ]
  },
  {
   "cell_type": "code",
   "execution_count": 12,
   "metadata": {
    "_uuid": "cd664f1782b6232396b5e61599001b9e1540ec17"
   },
   "outputs": [],
   "source": [
    "b=tf.gather(a,[1,3])"
   ]
  },
  {
   "cell_type": "code",
   "execution_count": 13,
   "metadata": {
    "_uuid": "7bce63f1fa9b13d2975e6113f51b8597608182c6"
   },
   "outputs": [
    {
     "data": {
      "text/plain": [
       "array([[6, 7],\n",
       "       [1, 6],\n",
       "       [4, 3],\n",
       "       [4, 4]])"
      ]
     },
     "execution_count": 13,
     "metadata": {},
     "output_type": "execute_result"
    }
   ],
   "source": [
    "a.eval()"
   ]
  },
  {
   "cell_type": "code",
   "execution_count": 14,
   "metadata": {
    "_uuid": "22acbcc25bd85e463c044a84c0d9545b30d50665"
   },
   "outputs": [
    {
     "data": {
      "text/plain": [
       "array([[1, 6],\n",
       "       [4, 4]])"
      ]
     },
     "execution_count": 14,
     "metadata": {},
     "output_type": "execute_result"
    }
   ],
   "source": [
    "b.eval()"
   ]
  },
  {
   "cell_type": "code",
   "execution_count": 15,
   "metadata": {
    "_uuid": "cf525f609c9e63e21e25c7e734816afcc5b1433f"
   },
   "outputs": [],
   "source": [
    "# It can be used on let say training examples satisfying particular condition\n",
    "# that is we can let say take out indices of training examples where particular condition is satisfied\n",
    "# and we can gather them using tf.gather"
   ]
  },
  {
   "cell_type": "code",
   "execution_count": 16,
   "metadata": {
    "_uuid": "8f99814ac687805769366979c79d29f4c303d021"
   },
   "outputs": [],
   "source": [
    "#but remember tf.gather gathers examples on basis of rows. It sees only first dim of the tensor.  0"
   ]
  },
  {
   "cell_type": "code",
   "execution_count": 17,
   "metadata": {
    "_uuid": "1280c07a728b0a41853e15cc8f0ba5a807c8cdf6"
   },
   "outputs": [],
   "source": [
    "### >> Application of gather_nd"
   ]
  },
  {
   "cell_type": "code",
   "execution_count": 18,
   "metadata": {
    "_uuid": "dbb905e103d7ddad5ed984e92744031208eaff40"
   },
   "outputs": [],
   "source": [
    "data=tf.constant(np.random.randint(0,10,size=(5,6)))\n"
   ]
  },
  {
   "cell_type": "code",
   "execution_count": 19,
   "metadata": {
    "_uuid": "6dd4411c5b57f6ea0423ced6b7c887c7b2e65c2b"
   },
   "outputs": [],
   "source": [
    "result=tf.gather(data,[1,2])"
   ]
  },
  {
   "cell_type": "code",
   "execution_count": 20,
   "metadata": {
    "_uuid": "e23bc2c944bb7194e3a4e8551d0c9bb45050d174"
   },
   "outputs": [
    {
     "data": {
      "text/plain": [
       "array([[9, 5, 4, 8, 3, 9],\n",
       "       [1, 5, 6, 5, 1, 4]])"
      ]
     },
     "execution_count": 20,
     "metadata": {},
     "output_type": "execute_result"
    }
   ],
   "source": [
    "result.eval()"
   ]
  },
  {
   "cell_type": "code",
   "execution_count": 21,
   "metadata": {
    "_uuid": "909c0178b4e26e2310102cfeff073a1de9b7b818"
   },
   "outputs": [
    {
     "data": {
      "text/plain": [
       "array([[2, 4, 8, 6, 5, 5],\n",
       "       [9, 5, 4, 8, 3, 9],\n",
       "       [1, 5, 6, 5, 1, 4],\n",
       "       [3, 8, 8, 9, 2, 0],\n",
       "       [8, 4, 2, 1, 8, 8]])"
      ]
     },
     "execution_count": 21,
     "metadata": {},
     "output_type": "execute_result"
    }
   ],
   "source": [
    "data.eval()   # same as tf.gather"
   ]
  },
  {
   "cell_type": "code",
   "execution_count": 22,
   "metadata": {
    "_uuid": "188ae3a652274afea4274fa5f07fc6e88709e85c"
   },
   "outputs": [],
   "source": [
    "result1=tf.gather(data,[[1,2],[2,3],[3,4]])"
   ]
  },
  {
   "cell_type": "code",
   "execution_count": 23,
   "metadata": {
    "_uuid": "cb12ba0a10aa8f0293902ef22bbc198bcfaeecdc"
   },
   "outputs": [
    {
     "data": {
      "text/plain": [
       "array([[[9, 5, 4, 8, 3, 9],\n",
       "        [1, 5, 6, 5, 1, 4]],\n",
       "\n",
       "       [[1, 5, 6, 5, 1, 4],\n",
       "        [3, 8, 8, 9, 2, 0]],\n",
       "\n",
       "       [[3, 8, 8, 9, 2, 0],\n",
       "        [8, 4, 2, 1, 8, 8]]])"
      ]
     },
     "execution_count": 23,
     "metadata": {},
     "output_type": "execute_result"
    }
   ],
   "source": [
    "result1.eval()  #### very important APPLICATION of tf.gather"
   ]
  },
  {
   "cell_type": "code",
   "execution_count": 24,
   "metadata": {
    "_uuid": "792750b004f76dda10bd535d079c8a1b0f86daa4"
   },
   "outputs": [],
   "source": [
    "result2=tf.gather_nd(data,[[1,2],[3,4]])"
   ]
  },
  {
   "cell_type": "code",
   "execution_count": 25,
   "metadata": {
    "_uuid": "6a3ecfe810333f7760b80186c48a4a070f8b8db1"
   },
   "outputs": [
    {
     "data": {
      "text/plain": [
       "array([4, 2])"
      ]
     },
     "execution_count": 25,
     "metadata": {},
     "output_type": "execute_result"
    }
   ],
   "source": [
    "result2.eval()   ### [[x1,x2],[y1,y2]]  gives (x1,y1) element and (x2,y2) element of data"
   ]
  },
  {
   "cell_type": "code",
   "execution_count": 26,
   "metadata": {
    "_uuid": "aa5fb31c4a9b230cd26f39b2666802c6b9c7d10b"
   },
   "outputs": [],
   "source": [
    "data1=tf.constant(np.random.randint(10,size=(5,4,3)))\n",
    "result3=tf.gather_nd(data1,[[1,1,1],[2,2,2]])"
   ]
  },
  {
   "cell_type": "code",
   "execution_count": 27,
   "metadata": {
    "_uuid": "fdd830b2ed00e6d383015b65b41fb81994378e15"
   },
   "outputs": [
    {
     "data": {
      "text/plain": [
       "array([2, 1])"
      ]
     },
     "execution_count": 27,
     "metadata": {},
     "output_type": "execute_result"
    }
   ],
   "source": [
    "result3.eval()"
   ]
  },
  {
   "cell_type": "code",
   "execution_count": 28,
   "metadata": {
    "_uuid": "d083dc6c191af9db979f034de6ce0381a965c77d"
   },
   "outputs": [
    {
     "data": {
      "text/plain": [
       "2"
      ]
     },
     "execution_count": 28,
     "metadata": {},
     "output_type": "execute_result"
    }
   ],
   "source": [
    "data1.eval()[1,1,1]"
   ]
  },
  {
   "cell_type": "code",
   "execution_count": 29,
   "metadata": {
    "_uuid": "a3c9e38ac9381f65a94bfd517951ea90546343b8"
   },
   "outputs": [
    {
     "data": {
      "text/plain": [
       "1"
      ]
     },
     "execution_count": 29,
     "metadata": {},
     "output_type": "execute_result"
    }
   ],
   "source": [
    "data1.eval()[2,2,2]"
   ]
  },
  {
   "cell_type": "code",
   "execution_count": 30,
   "metadata": {
    "_uuid": "408df06eb8f44f288f3a6d268dd6f63176ae5dfd"
   },
   "outputs": [],
   "source": []
  }
 ],
 "metadata": {
  "kernelspec": {
   "display_name": "Python 3",
   "language": "python",
   "name": "python3"
  },
  "language_info": {
   "codemirror_mode": {
    "name": "ipython",
    "version": 3
   },
   "file_extension": ".py",
   "mimetype": "text/x-python",
   "name": "python",
   "nbconvert_exporter": "python",
   "pygments_lexer": "ipython3",
   "version": "3.6.6"
  }
 },
 "nbformat": 4,
 "nbformat_minor": 1
}
